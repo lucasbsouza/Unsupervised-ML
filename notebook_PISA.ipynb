{
 "cells": [
  {
   "cell_type": "code",
   "execution_count": 12,
   "metadata": {},
   "outputs": [
    {
     "ename": "SyntaxError",
     "evalue": "invalid syntax (68091771.py, line 43)",
     "output_type": "error",
     "traceback": [
      "\u001b[1;36m  Cell \u001b[1;32mIn[12], line 43\u001b[1;36m\u001b[0m\n\u001b[1;33m    def validaPValor(valor) {}\u001b[0m\n\u001b[1;37m                            ^\u001b[0m\n\u001b[1;31mSyntaxError\u001b[0m\u001b[1;31m:\u001b[0m invalid syntax\n"
     ]
    }
   ],
   "source": [
    "#importação de pacotes and utilitarios\n",
    "\n",
    "import pandas as pd\n",
    "import numpy as np\n",
    "import matplotlib.pyplot as plt\n",
    "import seaborn as sns\n",
    "import plotly.io as pio\n",
    "from factor_analyzer import FactorAnalyzer\n",
    "from factor_analyzer.factor_analyzer import calculate_bartlett_sphericity\n",
    "from scipy.stats import chi2_contingency\n",
    "import statsmodels.api as sm\n",
    "import plotly.graph_objects as go\n",
    "pio.renderers.default='browser'\n",
    "\n",
    "def convertToNumber(banco, coluna):\n",
    "    banco[coluna] = pd.to_numeric(banco[coluna], errors='coerce')\n",
    "\n",
    "def calculateFatorBartlet(banco_dados, fatores):\n",
    "    fa = FactorAnalyzer(n_factors=fatores, method='principal', rotation=None).fit(banco_dados)\n",
    "    #%% Obtendo todos os possíveis autovalores\n",
    "    autovalores = fa.get_eigenvalues()[0]\n",
    "    print(autovalores)\n",
    "    return fa\n",
    "\n",
    "def buildVarianceTable(fatores):\n",
    "    tabela_eigen = pd.DataFrame(fatores.get_factor_variance())\n",
    "    tabela_eigen.columns = [f\"Fator {i+1}\" for i, v in enumerate(tabela_eigen.columns)]\n",
    "    tabela_eigen.index = ['Autovalor','Variância', 'Variância Acumulada']\n",
    "    tabela_eigen = tabela_eigen.T\n",
    "    return tabela_eigen\n",
    "\n",
    "def buildFactors(fatores, banco_dados_original, banco_dados_pca, nome_variavel):\n",
    "    fator = pd.DataFrame(fatores.transform(banco_dados_pca))\n",
    "    fator.columns = [nome_variavel]\n",
    "\n",
    "    # Adicionando os fatores ao banco de dados\n",
    "    banco_dados_original = pd.concat([banco_dados_original.reset_index(drop=True), fator], axis=1)\n",
    "\n",
    "    # Organizando o dataset por meio do fator\n",
    "    banco_dados_original.sort_values(nome_variavel, ascending=False, inplace=True)\n",
    "    banco_dados_original.reset_index(drop=True, inplace=True)\n",
    "\n",
    "def validaPValor(valor):\n",
    "    if (valor > 0.05):\n",
    "        raise Exception ('P-valor com percentual elevado não iremos continuar com a analise')"
   ]
  },
  {
   "cell_type": "code",
   "execution_count": 2,
   "metadata": {},
   "outputs": [
    {
     "name": "stdout",
     "output_type": "stream",
     "text": [
      "<class 'pandas.core.frame.DataFrame'>\n",
      "RangeIndex: 96 entries, 0 to 95\n",
      "Data columns (total 8 columns):\n",
      " #   Column            Non-Null Count  Dtype \n",
      "---  ------            --------------  ----- \n",
      " 0   country           96 non-null     object\n",
      " 1   group             96 non-null     object\n",
      " 2   mathematics_2022  96 non-null     object\n",
      " 3   reading_2022      96 non-null     object\n",
      " 4   science_2022      96 non-null     object\n",
      " 5   mathematics_2018  96 non-null     object\n",
      " 6   reading_2018      96 non-null     object\n",
      " 7   science_2018      96 non-null     object\n",
      "dtypes: object(8)\n",
      "memory usage: 6.1+ KB\n"
     ]
    }
   ],
   "source": [
    "# importação de banco de dados\n",
    "dados_pisa = pd.read_csv('./bancos_dados/notas_pisa.csv', delimiter=',')\n",
    "dados_pisa.info()"
   ]
  },
  {
   "cell_type": "code",
   "execution_count": 3,
   "metadata": {},
   "outputs": [
    {
     "name": "stdout",
     "output_type": "stream",
     "text": [
      "<class 'pandas.core.frame.DataFrame'>\n",
      "Index: 81 entries, 0 to 95\n",
      "Data columns (total 5 columns):\n",
      " #   Column            Non-Null Count  Dtype  \n",
      "---  ------            --------------  -----  \n",
      " 0   country           81 non-null     object \n",
      " 1   group             81 non-null     object \n",
      " 2   mathematics_2022  81 non-null     float64\n",
      " 3   reading_2022      81 non-null     float64\n",
      " 4   science_2022      81 non-null     float64\n",
      "dtypes: float64(3), object(2)\n",
      "memory usage: 3.8+ KB\n"
     ]
    }
   ],
   "source": [
    "\"\"\"\n",
    " Em um primeiro momento só iremos utilizar as notas de 2022, \n",
    " por este motivo será gerado outro banco de dados sem as notas de 2018\n",
    " E faremos o tratamento dos dados\n",
    "\"\"\"\n",
    "\n",
    "#remove as colunas que não usaremos\n",
    "if 'mathematics_2018' in dados_pisa.columns:\n",
    "    dados_pisa.drop(columns=['mathematics_2018', 'reading_2018', 'science_2018'], inplace=True)\n",
    "\n",
    "#realizarmos padronização dos dados, pois as notas estão em formato texto, iremos transformar para numeros\n",
    "convertToNumber(dados_pisa, 'mathematics_2022')\n",
    "convertToNumber(dados_pisa, 'reading_2022')\n",
    "convertToNumber(dados_pisa, 'science_2022')\n",
    "\n",
    "#remove as linhas NAN\n",
    "dados_pisa.dropna(inplace=True)\n",
    "dados_pisa.info()"
   ]
  },
  {
   "cell_type": "code",
   "execution_count": 4,
   "metadata": {},
   "outputs": [],
   "source": [
    "# iremos iniciar com a analise PCA\n",
    "\n",
    "\"\"\"para gerar o mapa de calor a matriz deve possuir apenas dados categoricos, por isso iremos remover\n",
    "as varveis COUNTRY E GROUP, porem agora iremos gerar outro dataFrame para manter o original e\n",
    "depois fazer um merge \"\"\"\n",
    "\n",
    "pisa_pca = dados_pisa.drop(columns=['country', 'group'])"
   ]
  },
  {
   "cell_type": "code",
   "execution_count": 5,
   "metadata": {},
   "outputs": [
    {
     "data": {
      "text/plain": [
       "<Axes: >"
      ]
     },
     "execution_count": 5,
     "metadata": {},
     "output_type": "execute_result"
    },
    {
     "data": {
      "image/png": "[encoded data removed]",
      "text/plain": [
       "<Figure size 640x480 with 2 Axes>"
      ]
     },
     "metadata": {},
     "output_type": "display_data"
    }
   ],
   "source": [
    "# Geração de mapa de calor para verificar se existe relação forte entre as variaveis\n",
    "# Esta mapa é gerado apartir de uma matriz de correção, esta matriz é gerada pelo comando pisa_pca.corr()\n",
    "# INTERPRETAÇÃO - no mapa de calor, quanto mais perto de 1, maior é a relação entre as variaveis\n",
    "sns.heatmap(pisa_pca.corr(), annot=True, \n",
    "            cmap = plt.cm.Purples,\n",
    "            annot_kws={'size':7})"
   ]
  },
  {
   "cell_type": "code",
   "execution_count": 6,
   "metadata": {},
   "outputs": [
    {
     "name": "stdout",
     "output_type": "stream",
     "text": [
      "Qui² Bartlett: 508.46\n",
      "p-valor: 0.0\n"
     ]
    }
   ],
   "source": [
    "# Realizar teste Qui quadrado, LEMBRANDO QUE CONTINUAMOS A ANALISE SE O TESTE FOR < 5%\n",
    "bartlett, p_value = calculate_bartlett_sphericity(pisa_pca)\n",
    "print(f'Qui² Bartlett: {round(bartlett, 2)}')\n",
    "print(f'p-valor: {round(p_value, 4)}')\n",
    "validaPValor(p_value)"
   ]
  },
  {
   "cell_type": "code",
   "execution_count": 7,
   "metadata": {},
   "outputs": [
    {
     "name": "stdout",
     "output_type": "stream",
     "text": [
      "[2.92687872 0.06529156 0.00782972]\n",
      "[2.92687872 0.06529156 0.00782972]\n"
     ]
    }
   ],
   "source": [
    "# precisamos agrupar nosso banco de dados, porem não sabemos quantos fatores devemos incluir, por isso colocamos\n",
    "# a quantidade total, que é a quantidade de variaveis 3\n",
    "calculateFatorBartlet(pisa_pca, 3)\n",
    "\n",
    "# com base nos valores printados tomamos a decisão de quantos fatores precisamos, o valor ideal é \n",
    "# valores maiores que 1, NESTE CASO APENAS 1 FATOR É NECESSARIO\n",
    "fatores = calculateFatorBartlet(pisa_pca, 1)"
   ]
  },
  {
   "cell_type": "code",
   "execution_count": 8,
   "metadata": {},
   "outputs": [
    {
     "name": "stdout",
     "output_type": "stream",
     "text": [
      "         Autovalor  Variância  Variância Acumulada\n",
      "Fator 1   2.926879   0.975626             0.975626\n",
      "                   Fator 1\n",
      "mathematics_2022  0.982323\n",
      "reading_2022      0.983425\n",
      "science_2022      0.997394\n",
      "Empty DataFrame\n",
      "Columns: []\n",
      "Index: [mathematics_2022, reading_2022, science_2022]\n",
      "                  Comunalidades\n",
      "mathematics_2022       0.964959\n",
      "reading_2022           0.967125\n",
      "science_2022           0.994794\n"
     ]
    }
   ],
   "source": [
    "# agora precisamos obter % de variancia e variancia acumulada\n",
    "# QUANTO MAIOR O % DE VARIANCIA MAIS DADOS TEMOS REPRESENTADOS\n",
    "tabela_variancia = buildVarianceTable(fatores)\n",
    "print(tabela_variancia)\n",
    "\n",
    "# com a tabela de cargas fatorias, PASSO ABAIXO SERVE APENAS PARA ANALISE\n",
    "# temos o percentual que esta sendo representado no fator em cada variavel\n",
    "\"\"\"                Fator 1\n",
    "mathematics_2022  0.982323\n",
    "reading_2022      0.983425\n",
    "science_2022      0.997394\n",
    "\n",
    "No caso acima apenas 1 fatores representa 98% da variavel matemativa \n",
    "todas as variveis são altamente representadas \"\"\"\n",
    "\n",
    "tabela_cargas = pd.DataFrame(fatores.loadings_)\n",
    "tabela_cargas.columns = [f\"Fator {i+1}\" for i, v in enumerate(tabela_cargas.columns)]\n",
    "tabela_cargas.index = pisa_pca.columns\n",
    "print(tabela_cargas)\n",
    "\n",
    "## Obtendo scores fatoriais\n",
    "tabela_scores = pd.DataFrame(fatores.weights_)\n",
    "tabela_scores.columns = [f\"Fator {i+1}\" for i, v in enumerate(tabela_scores.columns)]\n",
    "tabela_scores.index = pisa_pca.columns\n",
    "\n",
    "print(tabela_scores)\n",
    "\n",
    "# Comunidades mostram se houve perda relativa de valores dentro do fator, SERVE APENAS PARA ANALISE\n",
    "# quando mais proximo de 1 MENOS INFORMAÇÃO PERDEMOS NA VARIAVEL\n",
    "tabela_comunalidades = pd.DataFrame(fatores.get_communalities())\n",
    "tabela_comunalidades.columns = ['Comunalidades']\n",
    "tabela_comunalidades.index = pisa_pca.columns\n",
    "\n",
    "print(tabela_comunalidades)\n"
   ]
  },
  {
   "cell_type": "code",
   "execution_count": 9,
   "metadata": {},
   "outputs": [],
   "source": [
    "# PASSO IMPORTANTE\n",
    "# Extração dos fatores e inclusão da variavel no banco de dados original\n",
    "# buildFactors(fatores, dados_pisa, pisa_pca, 'fator_2022')\n",
    "\n",
    "fator = pd.DataFrame(fatores.transform(pisa_pca))\n",
    "fator.columns = ['fator_2022']\n",
    "\n",
    "# Adicionando os fatores ao banco de dados\n",
    "dados_pisa = pd.concat([dados_pisa.reset_index(drop=True), fator], axis=1)\n",
    "\n",
    "# Organizando o dataset por meio do fator\n",
    "dados_pisa.sort_values('fator_2022', ascending=False, inplace=True)\n",
    "dados_pisa.reset_index(drop=True, inplace=True)"
   ]
  },
  {
   "cell_type": "code",
   "execution_count": 10,
   "metadata": {},
   "outputs": [
    {
     "name": "stdout",
     "output_type": "stream",
     "text": [
      "group      OECD  PARTNERS\n",
      "categoria                \n",
      "grupo_1       0        21\n",
      "grupo_2       5        15\n",
      "grupo_3      16         4\n",
      "grupo_4      16         4\n",
      "estatística qui²: 40.09\n",
      "p-valor da estatística: 0.0\n",
      "graus de liberdade: 3\n",
      "group          OECD  PARTNERS\n",
      "categoria                    \n",
      "grupo_1   -4.736823  4.736823\n",
      "grupo_2   -2.170425  2.170425\n",
      "grupo_3    3.510703 -3.510703\n",
      "grupo_4    3.510703 -3.510703\n"
     ]
    }
   ],
   "source": [
    "## UNINDO DUAS ANALISES E REALIZANDO ANALISE DE CORRESPONDENCIA NO RESULTADO DA ANALISE DE FATORIAL ##\n",
    "dados_pisa['categoria'] = pd.qcut(dados_pisa['fator_2022'], 4, labels=list(['grupo_1', 'grupo_2', 'grupo_3', 'grupo_4']))\n",
    "\n",
    "## agora iremos verificar se possui relação dos fatoriais que viraram categorias\n",
    " # com o grupo de paises, como as duas variaveis são categoricas, iremos realiza analise de correspondencia\n",
    " \n",
    "# Gerando tabela de contingencia que é o INPUT da analise de correspondencia\n",
    "cross_tab = pd.crosstab(dados_pisa['categoria'], dados_pisa['group'])\n",
    "print(cross_tab)\n",
    "\n",
    "# Realizar teste para saber se possui relação os dados e se vale a pena continuar a analise\n",
    "# caso p-valor seja < que 5% podemos continuar\n",
    "teste_qui2 = chi2_contingency(cross_tab)\n",
    "print(f\"estatística qui²: {round(teste_qui2[0], 2)}\")\n",
    "print(f\"p-valor da estatística: {round(teste_qui2[1], 4)}\")\n",
    "print(f\"graus de liberdade: {teste_qui2[2]}\")\n",
    "\n",
    "validaPValor(teste_qui2[1])\n",
    "\n",
    "# Gerando a tabela de contingencia para continuar a analise\n",
    "tab_contingencia = sm.stats.Table(cross_tab)\n",
    "\n",
    "# Resíduos padronizados ajustados\n",
    "print(tab_contingencia.standardized_resids)"
   ]
  },
  {
   "cell_type": "code",
   "execution_count": 11,
   "metadata": {},
   "outputs": [],
   "source": [
    "#realiza a criação do grafico\n",
    "\n",
    "fig = go.Figure()\n",
    "\n",
    "maxz = np.max(tab_contingencia.standardized_resids)+0.1\n",
    "minz = np.min(tab_contingencia.standardized_resids)-0.1\n",
    "\n",
    "colorscale = ['purple' if i>1.96 else '#FAF9F6' for i in np.arange(minz,maxz,0.01)]\n",
    "\n",
    "fig.add_trace(\n",
    "    go.Heatmap(\n",
    "        x = tab_contingencia.standardized_resids.columns,\n",
    "        y = tab_contingencia.standardized_resids.index,\n",
    "        z = np.array(tab_contingencia.standardized_resids),\n",
    "        text=tab_contingencia.standardized_resids.values,\n",
    "        texttemplate='%{text:.2f}',\n",
    "        showscale=False,\n",
    "        colorscale=colorscale))\n",
    "\n",
    "fig.update_layout(\n",
    "    title='<b>Resíduos Padronizados Ajustados</b>',\n",
    "    height = 600,\n",
    "    width = 600)\n",
    "\n",
    "fig.show()"
   ]
  }
 ],
 "metadata": {
  "kernelspec": {
   "display_name": ".venv",
   "language": "python",
   "name": "python3"
  },
  "language_info": {
   "codemirror_mode": {
    "name": "ipython",
    "version": 3
   },
   "file_extension": ".py",
   "mimetype": "text/x-python",
   "name": "python",
   "nbconvert_exporter": "python",
   "pygments_lexer": "ipython3",
   "version": "3.9.4"
  }
 },
 "nbformat": 4,
 "nbformat_minor": 2
}
